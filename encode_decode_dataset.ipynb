{
 "cells": [
  {
   "cell_type": "code",
   "execution_count": 4,
   "metadata": {},
   "outputs": [],
   "source": [
    "from sklearn import preprocessing\n",
    "import numpy as np\n",
    "from pathlib import Path\n",
    "import pandas as pd"
   ]
  },
  {
   "cell_type": "code",
   "execution_count": 14,
   "metadata": {},
   "outputs": [],
   "source": [
    "INPUT_FILE_TO_ENCODE = \"/Users/admin/Documents/codes/FIM/data/fim_input.csv\"\n",
    "OUTPUT_PATTERN_DIR = \"/Users/admin/Documents/codes/FIM/data/\"\n",
    "INPUT_DIR_TO_DECODE= \"/Users/admin/Downloads/Re__input_data/\""
   ]
  },
  {
   "cell_type": "code",
   "execution_count": 9,
   "metadata": {},
   "outputs": [
    {
     "data": {
      "text/plain": [
       "LabelEncoder()"
      ]
     },
     "execution_count": 9,
     "metadata": {},
     "output_type": "execute_result"
    }
   ],
   "source": [
    "df_in=pd.read_csv(INPUT_FILE_TO_ENCODE, sep=',', dtype=str)\n",
    "cols = df_in.columns.tolist()\n",
    "data_col  = cols.copy()\n",
    "data_col.remove('dir')\n",
    "data_col.remove('label')          \n",
    "for col in data_col:\n",
    "    df_in[col] = df_in[col].apply(lambda x: col+'_'+str(x))\n",
    "\n",
    "uniq = []\n",
    "for col in data_col:\n",
    "    uniq+=df_in[col].unique().tolist()\n",
    "\n",
    "le = preprocessing.LabelEncoder()\n",
    "le.fit(uniq)"
   ]
  },
  {
   "cell_type": "markdown",
   "metadata": {},
   "source": [
    "# Encoding"
   ]
  },
  {
   "cell_type": "code",
   "execution_count": 11,
   "metadata": {},
   "outputs": [
    {
     "name": "stdout",
     "output_type": "stream",
     "text": [
      "Direction: 0\n",
      "Direction: 1\n"
     ]
    }
   ],
   "source": [
    "for flow_dir in ['0','1']:\n",
    "    bfr = []\n",
    "    print('Direction: {}'.format(flow_dir))\n",
    "    df_entries = df_in[df_in['dir']==flow_dir][data_col]\n",
    "    for index,row in df_entries.iterrows():\n",
    "        entry = row.tolist()\n",
    "        bfr.append(le.transform(entry))\n",
    "    \n",
    "    df_w = pd.DataFrame(bfr)\n",
    "    df_w.to_csv(\"/tmp/formatted_dir_{}.dat\".format(flow_dir), index=False, mode='w', sep=' ')"
   ]
  },
  {
   "cell_type": "markdown",
   "metadata": {},
   "source": [
    "# Decoding"
   ]
  },
  {
   "cell_type": "code",
   "execution_count": 15,
   "metadata": {},
   "outputs": [
    {
     "name": "stdout",
     "output_type": "stream",
     "text": [
      "Doing file /Users/admin/Downloads/Re__input_data/CFI_dir_0_10.txt\n",
      "['dport_6.22']\n",
      "['sizeBin_M']\n",
      "['sizeBin_S']\n",
      "['dport_6.80', 'ext_192.168.1.47']\n",
      "['dport_6.22', 'sizeBin_M']\n",
      "['dport_6.22', 'sizeBin_S']\n",
      "['dport_6.80', 'ext_192.168.1.47', 'sizeBin_M']\n",
      "['dport_17.53', 'ext_192.168.1.1', 'iot_192.168.1.47', 'sizeBin_S']\n",
      "Doing file /Users/admin/Downloads/Re__input_data/CFI_dir_1_50.txt\n",
      "['sizeBin_S']\n",
      "Doing file /Users/admin/Downloads/Re__input_data/CFI_dir_1_90.txt\n",
      "['sizeBin_S']\n",
      "Doing file /Users/admin/Downloads/Re__input_data/CFI_dir_1_80.txt\n",
      "['sizeBin_S']\n",
      "Doing file /Users/admin/Downloads/Re__input_data/CFI_dir_1_40.txt\n",
      "['sizeBin_S']\n",
      "Doing file /Users/admin/Downloads/Re__input_data/CFI_dir_1_30.txt\n",
      "['sizeBin_S']\n",
      "Doing file /Users/admin/Downloads/Re__input_data/CFI_dir_1_20.txt\n",
      "['dport_6.22']\n",
      "['sizeBin_S']\n",
      "Doing file /Users/admin/Downloads/Re__input_data/CFI_dir_1_10.txt\n",
      "['dport_6.22']\n",
      "['sizeBin_S']\n",
      "['dport_6.8080', 'sizeBin_S']\n",
      "['dport_6.2323', 'sizeBin_S']\n",
      "['dport_6.80', 'sizeBin_S']\n",
      "['dport_6.23', 'sizeBin_S']\n",
      "['dport_6.443', 'sizeBin_S']\n",
      "['dport_6.22', 'sizeBin_S']\n",
      "Doing file /Users/admin/Downloads/Re__input_data/CFI_dir_0_50.txt\n",
      "['sizeBin_S']\n",
      "Doing file /Users/admin/Downloads/Re__input_data/CFI_dir_0_40.txt\n",
      "['sizeBin_S']\n",
      "Doing file /Users/admin/Downloads/Re__input_data/CFI_dir_1_70.txt\n",
      "['sizeBin_S']\n",
      "Doing file /Users/admin/Downloads/Re__input_data/CFI_dir_0_30.txt\n",
      "['dport_6.22']\n",
      "['sizeBin_M']\n",
      "['sizeBin_S']\n",
      "['dport_17.53', 'ext_192.168.1.1', 'iot_192.168.1.47', 'sizeBin_S']\n",
      "Doing file /Users/admin/Downloads/Re__input_data/CFI_dir_0_20.txt\n",
      "['dport_6.22']\n",
      "['sizeBin_M']\n",
      "['sizeBin_S']\n",
      "['dport_6.80', 'ext_192.168.1.47']\n",
      "['dport_6.80', 'ext_192.168.1.47', 'sizeBin_M']\n",
      "['dport_17.53', 'ext_192.168.1.1', 'iot_192.168.1.47', 'sizeBin_S']\n",
      "Doing file /Users/admin/Downloads/Re__input_data/CFI_dir_1_60.txt\n",
      "['sizeBin_S']\n"
     ]
    }
   ],
   "source": [
    "def fill_the_patterns(i_itemset, i_cols = ['iot', 'ext', 'sport', 'dport', 'sizeBin']):\n",
    "    ret_patterns= []\n",
    "    template_pattern = {}\n",
    "    for pattern in i_itemset: #self._final_itemset[i_flow_dir]:\n",
    "            \n",
    "        template_pattern = {}\n",
    "        for i in i_cols:\n",
    "            template_pattern[i]='  *  '\n",
    "\n",
    "        for value in pattern:\n",
    "            val = value.split('_')\n",
    "            if val[0] in i_cols:\n",
    "                template_pattern[val[0]] = val[1]\n",
    "                    \n",
    "        #print(pattern, template_pattern)\n",
    "        ret_patterns.append(template_pattern.values())\n",
    "\n",
    "    return template_pattern.keys(),ret_patterns\n",
    "\n",
    "def format_output(i_file):\n",
    "    all_patterns= []\n",
    "    with open(i_file, 'r') as rp:\n",
    "        for line in rp.readlines():\n",
    "            line = line.rstrip('\\n')\n",
    "            y = [int(i) for i in line.split(' ')[:-1]]\n",
    "            pattern=list(le.inverse_transform(y))\n",
    "            print(pattern)\n",
    "            all_patterns.append(pattern)\n",
    "\n",
    "        hdr, vals = fill_the_patterns(all_patterns)\n",
    "        df_w = pd.DataFrame(vals, columns=hdr)\n",
    "          \n",
    "        file_to_write = i_file+'_labeled'\n",
    "        df_w.to_csv(file_to_write, index=False, mode='w', sep='\\t') \n",
    "\n",
    "for filename in Path(INPUT_DIR_TO_DECODE).glob('*.txt'):\n",
    "    print('Doing file {}'.format(filename))\n",
    "    format_output(str(filename))"
   ]
  },
  {
   "cell_type": "code",
   "execution_count": null,
   "metadata": {},
   "outputs": [],
   "source": []
  }
 ],
 "metadata": {
  "kernelspec": {
   "display_name": "Python 3",
   "language": "python",
   "name": "python3"
  },
  "language_info": {
   "codemirror_mode": {
    "name": "ipython",
    "version": 3
   },
   "file_extension": ".py",
   "mimetype": "text/x-python",
   "name": "python",
   "nbconvert_exporter": "python",
   "pygments_lexer": "ipython3",
   "version": "3.7.4"
  }
 },
 "nbformat": 4,
 "nbformat_minor": 2
}
